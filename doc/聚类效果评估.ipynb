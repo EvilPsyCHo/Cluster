{
 "cells": [
  {
   "cell_type": "markdown",
   "metadata": {},
   "source": [
    "# 聚类效果评估方法\n",
    "\n",
    "## Methods\n",
    "+ Adjust Rand index\n",
    "  > 特性：取值范围$[-1, 1]$，取值越大，表示两种划分方法一致性越高，度量对称。\n",
    "\n",
    "+ Adjust mutual information score\n",
    "  > 特性：取值范围$[0, 1]$，取值越大，表示两种划分方法分布吻合度越高。\n",
    "\n",
    "+ Homogeneity\n",
    "  > 特性：同质性度量\n",
    "\n",
    "+ Completeness\n",
    "  > 特性：完整性度量\n",
    "\n",
    "+ V-measure\n",
    "  > 特性：homogeneity和completness的调和平均数\n",
    "\n",
    "+ FMI(Fowlkers-Mallows score)\n",
    "  > 特性：精度和召回的几何平均值, $FMI(labels\\_true, labels\\_pred) = \\frac{TP}{\\sqrt{(TP+FP)(TP+FN)}}$\n",
    "\n",
    "+ Silhouette Coefficient\n",
    "  > 特性：轮廓系数，取值[-1,1]，取值越高，则同类样本越近，不同类样本越远。\n",
    "\n",
    "+ Calinski-Harabaz Index\n",
    "  > 特性：$CHI = \\frac{tr(B_k}{tr(W_k)} \\frac{m-k}{k-1}$， $B_k$为类别间协方差矩阵, $W_k$为类别类协方差矩阵，$tr$为矩阵的迹，$K$ 为类别数。\n",
    "  > 值越大越好，速度快。\n",
    "\n",
    "\n",
    "## Reference\n",
    "\n",
    "+ [[1] 简书：聚类算法评估](https://www.jianshu.com/p/b9528df2f57a)\n",
    "+ [[2] WIKI: Rand index](https://en.wikipedia.org/wiki/Rand_index)\n",
    "+ [[3] 六大分群质量评估](https://blog.csdn.net/sinat_26917383/article/details/70577710)"
   ]
  },
  {
   "cell_type": "code",
   "execution_count": 2,
   "metadata": {
    "collapsed": true
   },
   "outputs": [],
   "source": [
    "import matplotlib.pyplot as plt\n",
    "from matplotlib import cm\n",
    "import numpy as np\n",
    "import pandas as pd\n",
    "%matplotlib inline\n",
    "import warnings\n",
    "warnings.filterwarnings('ignore')\n",
    "\n",
    "from sklearn.manifold import TSNE\n",
    "from sklearn.decomposition import KernelPCA, PCA, TruncatedSVD, RandomizedPCA\n",
    "from sklearn.metrics import pairwise\n",
    "\n",
    "from cluster.models import KMeans, MiniBatchKMeans, SpectralClustering \n",
    "from cluster.dataset import load_time_series\n",
    "from cluster.visual import plot_cluster_sequence, plot_cluster_dim_reduction\n",
    "from cluster import evaluate"
   ]
  },
  {
   "cell_type": "code",
   "execution_count": 3,
   "metadata": {
    "collapsed": true
   },
   "outputs": [],
   "source": [
    "data = load_time_series(1)\n",
    "data = data.groupby('datetime')['pwr'].sum()\n",
    "data = pd.DataFrame(data.values.reshape(-1, 48), index=np.unique(pd.to_datetime(data.index).date.astype(str)))"
   ]
  },
  {
   "cell_type": "code",
   "execution_count": 5,
   "metadata": {},
   "outputs": [
    {
     "data": {
      "text/plain": [
       "SpectralClustering(affinity='rbf', assign_labels='kmeans', coef0=1, degree=3,\n",
       "          eigen_solver=None, eigen_tol=0.0, gamma=1.0, kernel_params=None,\n",
       "          n_clusters=8, n_init=10, n_jobs=1, n_neighbors=10,\n",
       "          random_state=None)"
      ]
     },
     "execution_count": 5,
     "metadata": {},
     "output_type": "execute_result"
    }
   ],
   "source": [
    "kmeans_pp = KMeans(\n",
    "    n_clusters=8,  # 聚类簇数\n",
    "    max_iter=300,  # 最大迭代次数\n",
    "    n_init=10,  # 随机初始化运行总次数，反馈最佳聚类结果\n",
    "    init='k-means++',  # {'kmeans++', 'random', ndarray}\n",
    "    algorithm='auto',  # {'auto', 'full': EM算法, 'elkan': 应用三角不等式，不支持sparse}\n",
    ")\n",
    "\n",
    "kmeans_random = KMeans(\n",
    "    n_clusters=8,  # 聚类簇数\n",
    "    max_iter=300,  # 最大迭代次数\n",
    "    n_init=10,  # 随机初始化运行总次数，反馈最佳聚类结果\n",
    "    init='random',  # {'kmeans++', 'random', ndarray}\n",
    "    algorithm='auto',  # {'auto', 'full': EM算法, 'elkan': 应用三角不等式，不支持sparse}\n",
    ")\n",
    "\n",
    "kernel_kmeans = SpectralClustering(\n",
    "    n_clusters=8,\n",
    "    affinity='rbf',\n",
    "    gamma=1.,\n",
    "#     degree=3,\n",
    "    n_init=10,  # 同上\n",
    ")\n",
    "\n",
    "kmeans_pp.fit(data.values)\n",
    "kmeans_random.fit(data.values)\n",
    "kernel_kmeans.fit(data.values)"
   ]
  },
  {
   "cell_type": "markdown",
   "metadata": {},
   "source": [
    "## rand index"
   ]
  },
  {
   "cell_type": "code",
   "execution_count": 6,
   "metadata": {},
   "outputs": [
    {
     "data": {
      "text/plain": [
       "-0.002043593009480593"
      ]
     },
     "execution_count": 6,
     "metadata": {},
     "output_type": "execute_result"
    }
   ],
   "source": [
    "evaluate.adjusted_rand_score(kmeans_pp.labels_, kernel_kmeans.labels_)"
   ]
  },
  {
   "cell_type": "code",
   "execution_count": 8,
   "metadata": {},
   "outputs": [
    {
     "data": {
      "text/plain": [
       "\"SpectralClustering(affinity='rbf', assign_labels='kmeans', coef0=1, degree=3,\\n          eigen_solver=None, eigen_tol=0.0, gamma=1.0, kernel_params=None,\\n          n_clusters=8, n_init=10, n_jobs=1, n_neighbors=10,\\n          random_state=None)\""
      ]
     },
     "execution_count": 8,
     "metadata": {},
     "output_type": "execute_result"
    }
   ],
   "source": [
    "str(kernel_kmeans)"
   ]
  },
  {
   "cell_type": "code",
   "execution_count": 46,
   "metadata": {},
   "outputs": [
    {
     "data": {
      "text/plain": [
       "array([[ 1.        , -0.00204359,  0.97944737],\n",
       "       [-0.00204359,  1.        , -0.00244869],\n",
       "       [ 0.97944737, -0.00244869,  1.        ]])"
      ]
     },
     "execution_count": 46,
     "metadata": {},
     "output_type": "execute_result"
    }
   ],
   "source": [
    "adjusted_rand_score_matrix([kmeans_pp.labels_, kernel_kmeans.labels_, kmeans_random.labels_])"
   ]
  },
  {
   "cell_type": "code",
   "execution_count": 43,
   "metadata": {
    "collapsed": true
   },
   "outputs": [],
   "source": [
    "\n",
    "def adjusted_rand_score_matrix(*args):\n",
    "    \"\"\"\n",
    "\n",
    "    Args:\n",
    "        *args: list<list<string>>\n",
    "    Returns:\n",
    "\n",
    "    \"\"\"\n",
    "    size = len(args[0])\n",
    "    assert size >= 2, 'clusters must more than 2'\n",
    "    score_matrix = np.zeros([size, size])\n",
    "    for i in range(size):\n",
    "        for j in range(size):\n",
    "            if i == j:\n",
    "                score_matrix[i, j] = 1.\n",
    "            else:\n",
    "                score_matrix[i, j] = adjusted_rand_score(args[0][i], args[0][j])\n",
    "    return score_matrix"
   ]
  },
  {
   "cell_type": "code",
   "execution_count": 45,
   "metadata": {},
   "outputs": [],
   "source": [
    "from sklearn.metrics import adjusted_rand_score"
   ]
  },
  {
   "cell_type": "code",
   "execution_count": 42,
   "metadata": {},
   "outputs": [
    {
     "data": {
      "text/plain": [
       "array([[0., 0.],\n",
       "       [0., 0.],\n",
       "       [0., 0.],\n",
       "       [0., 0.],\n",
       "       [0., 0.],\n",
       "       [0., 0.],\n",
       "       [0., 0.],\n",
       "       [0., 0.],\n",
       "       [0., 0.],\n",
       "       [0., 0.]])"
      ]
     },
     "execution_count": 42,
     "metadata": {},
     "output_type": "execute_result"
    }
   ],
   "source": [
    "np.zeros([10,2])"
   ]
  },
  {
   "cell_type": "code",
   "execution_count": null,
   "metadata": {
    "collapsed": true
   },
   "outputs": [],
   "source": []
  }
 ],
 "metadata": {
  "kernelspec": {
   "display_name": "Python 3",
   "language": "python",
   "name": "python3"
  },
  "language_info": {
   "codemirror_mode": {
    "name": "ipython",
    "version": 3
   },
   "file_extension": ".py",
   "mimetype": "text/x-python",
   "name": "python",
   "nbconvert_exporter": "python",
   "pygments_lexer": "ipython3",
   "version": "3.6.1"
  }
 },
 "nbformat": 4,
 "nbformat_minor": 2
}
