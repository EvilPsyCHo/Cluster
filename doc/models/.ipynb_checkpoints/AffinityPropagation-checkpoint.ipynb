{
 "cells": [
  {
   "cell_type": "code",
   "execution_count": 4,
   "metadata": {
    "collapsed": true
   },
   "outputs": [],
   "source": [
    "from sklearn.cluster import AffinityPropagation as AP\n",
    "import pandas as pd\n",
    "import numpy as np\n",
    "import matplotlib.pyplot as plt\n",
    "%matplotlib inline\n",
    "from cluster.dataset import load_time_series\n",
    "data = load_time_series(1)\n",
    "data = data.groupby(data.datetime)[\"pwr\"].sum()\n",
    "data.index = pd.to_datetime(data.index)"
   ]
  },
  {
   "cell_type": "code",
   "execution_count": 3,
   "metadata": {},
   "outputs": [
    {
     "data": {
      "text/plain": [
       "<matplotlib.axes._subplots.AxesSubplot at 0x7f5410ba7668>"
      ]
     },
     "execution_count": 3,
     "metadata": {},
     "output_type": "execute_result"
    },
    {
     "data": {
      "image/png": "[encoded data removed]",
      "text/plain": [
       "<matplotlib.figure.Figure at 0x7f544427ed68>"
      ]
     },
     "metadata": {},
     "output_type": "display_data"
    }
   ],
   "source": [
    "data.plot()"
   ]
  },
  {
   "cell_type": "code",
   "execution_count": 5,
   "metadata": {
    "collapsed": true
   },
   "outputs": [],
   "source": [
    "ap = AP()"
   ]
  },
  {
   "cell_type": "code",
   "execution_count": 8,
   "metadata": {},
   "outputs": [
    {
     "data": {
      "text/plain": [
       "AffinityPropagation(affinity='euclidean', convergence_iter=15, copy=True,\n",
       "          damping=0.5, max_iter=200, preference=None, verbose=False)"
      ]
     },
     "execution_count": 8,
     "metadata": {},
     "output_type": "execute_result"
    }
   ],
   "source": [
    "ap.fit(data.values.reshape(-1, 48))"
   ]
  },
  {
   "cell_type": "code",
   "execution_count": 9,
   "metadata": {},
   "outputs": [
    {
     "data": {
      "text/plain": [
       "array([12,  6, 13, 13,  6,  4,  5,  4,  5, 13, 13,  5,  6,  6,  6,  6, 13,\n",
       "       13,  4,  4,  5,  5,  4,  0, 13,  6,  4,  4,  5,  3,  0,  0,  2,  3,\n",
       "        4,  4,  5,  0,  0,  2,  1,  2,  2,  3,  0,  0,  2,  1,  1,  1,  1,\n",
       "        0,  4,  2,  1,  1,  1,  1,  0,  4,  2,  1,  1,  1,  1,  6,  4,  2,\n",
       "        1,  1,  1,  3, 13,  0,  2,  1,  3,  3,  3,  0,  0,  2,  1,  1,  3,\n",
       "        3,  0,  0,  1,  3,  6,  6,  6, 13, 13,  5,  6,  4,  4,  4, 13, 10,\n",
       "        3,  5,  4,  6,  6,  0, 13,  5,  4,  6,  6,  3,  0, 13,  5,  6,  5,\n",
       "        6,  6,  6, 13, 10, 13,  9,  9,  9,  9,  9, 10, 12,  8, 10, 10,  9,\n",
       "       11, 10, 10,  8, 10, 10, 11,  9,  8, 10, 10,  8, 10,  9, 11, 10,  8,\n",
       "       10,  8, 10,  9, 11, 10, 10, 10,  8, 10,  9, 11, 10,  8, 12,  8, 12,\n",
       "       11, 11, 10,  7,  7,  7, 12, 11, 11,  7,  8, 12,  7,  7, 11, 11, 12,\n",
       "        7,  7,  8,  7, 13, 11,  7,  7, 12,  7,  7, 11, 11, 12,  7,  7,  7,\n",
       "        7,  8, 13,  7,  7, 12,  7,  7, 11,  9, 11,  7, 10,  7,  7, 11,  9,\n",
       "        7,  7,  7,  7,  7, 11,  9,  7,  7, 10,  8, 10, 11, 11, 10,  8, 10,\n",
       "        7, 10, 11, 11, 10,  7,  8,  8,  8, 11, 11,  7,  7,  7,  7,  7, 11,\n",
       "        7,  8,  8,  8,  9, 11, 11,  9, 11, 11, 11,  8,  8,  8, 11, 10,  8,\n",
       "       10,  8, 10, 11,  9,  8, 10,  8,  8, 10, 11,  9,  8, 10,  8, 10, 10,\n",
       "        9,  9,  7,  8, 12,  8, 10, 11,  9, 10,  8, 10, 10, 10,  9, 11, 10,\n",
       "       12, 12, 13, 11,  9, 10, 10, 10, 10, 12, 10,  9, 11, 10, 12, 10, 12,\n",
       "       12, 13, 13, 10, 12, 12, 10, 12, 13, 13,  9,  9, 10, 12, 12, 13,  9,\n",
       "       10, 12, 10, 10, 10, 13,  9,  5,  5,  3,  5,  5, 13, 13,  3,  6,  6,\n",
       "        5, 17, 13, 13, 12, 12,  6,  5, 14, 17, 17, 14, 16, 16, 16, 14, 17,\n",
       "       17, 16, 16, 16, 16, 14, 17, 17, 17, 16, 16, 16, 15, 17, 17, 18, 15,\n",
       "       16, 16, 15, 14, 14, 15, 16, 16, 16, 16,  5, 17, 14, 15, 14, 14, 15,\n",
       "       17, 17, 16, 15, 16, 15, 16, 15, 14, 18, 15,  3,  3,  3, 12,  5, 18,\n",
       "       16])"
      ]
     },
     "execution_count": 9,
     "metadata": {},
     "output_type": "execute_result"
    }
   ],
   "source": [
    "ap.labels_"
   ]
  },
  {
   "cell_type": "code",
   "execution_count": null,
   "metadata": {
    "collapsed": true
   },
   "outputs": [],
   "source": []
  }
 ],
 "metadata": {
  "kernelspec": {
   "display_name": "Python 3",
   "language": "python",
   "name": "python3"
  },
  "language_info": {
   "codemirror_mode": {
    "name": "ipython",
    "version": 3
   },
   "file_extension": ".py",
   "mimetype": "text/x-python",
   "name": "python",
   "nbconvert_exporter": "python",
   "pygments_lexer": "ipython3",
   "version": "3.6.3"
  }
 },
 "nbformat": 4,
 "nbformat_minor": 1
}
