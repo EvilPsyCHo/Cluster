{
 "cells": [
  {
   "cell_type": "markdown",
   "metadata": {},
   "source": [
    "# 聚类效果评估\n",
    "\n",
    "## 评估方法简介\n",
    "\n",
    "| 序号 | 名称 | 值域 | 描述 |\n",
    "| --- | :---: | :---: | :---: |\n",
    "| 1.  | ARI (Adjust Rand Index) | $ ARI \\in [-1, 1] $ | 调整兰德系数，度量两种划分方法一致性，一致性越高值越大，该度量对称 |\n",
    "| 2.  | AMI (Adjust Mutual Information Score | $ AMI \\in [0, 1] $| 调整互信息，度量两种划分分布的一致性，一致性越高值越大，该度量对称|\n",
    "| 3.  | Homogeneity [1] | $ H(labels\\_true, labels\\_pred) \\in [-1, 1] $ | 同质系数，该度量非对称 |\n",
    "| 4.  | Completeness [1] |  | 完整系数，该度量非对称 |\n",
    "| 5.  | V-measure [1] |  | homogeneity与completeness调和平均数 |\n",
    "| 6.  | Silhouette Coefficient| [-1, 1] | 轮廓系数，取值越高，则同类样本越近，不同类样本越远 |\n",
    "| 7.  | Calinski-Harabaz Index | | CH指标通过计算类中各点与类中心的距离平方和来度量类内的紧密度，通过计算各类中心点与数据集中心点距离平方和来度量数据集的分离度，CH指标由分离度与紧密度的比值得到。从而，CH越大代表着类自身越紧密，类与类之间越分散，即更优的聚类结果。|\n",
    "\n",
    "## Reference\n",
    "\n",
    "+ [[1] V-Measure: A conditional entropy-based external cluster evaluation\n",
    "measure](http://www.aclweb.org/anthology/D07-1043)\n",
    "+ [[2] 简书：聚类算法评估](https://www.jianshu.com/p/b9528df2f57a)\n",
    "+ [[3] WIKI: Rand index](https://en.wikipedia.org/wiki/Rand_index)\n",
    "+ [[4] 六大分群质量评估](https://blog.csdn.net/sinat_26917383/article/details/70577710)\n",
    "+ [[5] 互信息](https://blog.csdn.net/pipisorry/article/details/51695283)"
   ]
  },
  {
   "cell_type": "code",
   "execution_count": 1,
   "metadata": {
    "collapsed": true
   },
   "outputs": [],
   "source": [
    "import matplotlib.pyplot as plt\n",
    "from matplotlib import cm\n",
    "import numpy as np\n",
    "import pandas as pd\n",
    "%matplotlib inline\n",
    "import warnings\n",
    "warnings.filterwarnings('ignore')\n",
    "import seaborn as sns\n",
    "\n",
    "from sklearn.manifold import TSNE\n",
    "from sklearn.decomposition import KernelPCA, PCA, TruncatedSVD, RandomizedPCA\n",
    "from sklearn.metrics import pairwise\n",
    "\n",
    "from cluster.models import KMeans, MiniBatchKMeans, SpectralClustering, AffinityPropagation\n",
    "from cluster.dataset import load_time_series\n",
    "from cluster.visual import plot_cluster_sequence, plot_cluster_dim_reduction\n",
    "from cluster import evaluate"
   ]
  },
  {
   "cell_type": "code",
   "execution_count": 2,
   "metadata": {
    "collapsed": true
   },
   "outputs": [],
   "source": [
    "data = load_time_series(1)\n",
    "data = data.groupby('datetime')['pwr'].sum()\n",
    "data = pd.DataFrame(data.values.reshape(-1, 48), index=np.unique(pd.to_datetime(data.index).date.astype(str)))"
   ]
  },
  {
   "cell_type": "code",
   "execution_count": null,
   "metadata": {
    "collapsed": true
   },
   "outputs": [],
   "source": []
  }
 ],
 "metadata": {
  "kernelspec": {
   "display_name": "Python 3",
   "language": "python",
   "name": "python3"
  },
  "language_info": {
   "codemirror_mode": {
    "name": "ipython",
    "version": 3
   },
   "file_extension": ".py",
   "mimetype": "text/x-python",
   "name": "python",
   "nbconvert_exporter": "python",
   "pygments_lexer": "ipython3",
   "version": "3.6.1"
  }
 },
 "nbformat": 4,
 "nbformat_minor": 2
}
