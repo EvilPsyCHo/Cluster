{
 "cells": [
  {
   "cell_type": "markdown",
   "metadata": {},
   "source": [
    "## 聚类结果直接用于预测\n",
    "\n",
    "利用聚类结果的转移概率矩阵直接预测"
   ]
  },
  {
   "cell_type": "code",
   "execution_count": 2,
   "metadata": {
    "collapsed": true
   },
   "outputs": [],
   "source": [
    "import numpy as np\n",
    "import pandas as pd\n",
    "import warnings\n",
    "warnings.filterwarnings('ignore')\n",
    "\n",
    "from cluster.models import KMeans, MiniBatchKMeans, SpectralClustering, AffinityPropagation\n",
    "from cluster.dataset import load_time_series\n",
    "from cluster.analysis import transition_probability_matrix\n",
    "\n",
    "from bayes_opt import BayesianOptimization"
   ]
  },
  {
   "cell_type": "code",
   "execution_count": 3,
   "metadata": {
    "collapsed": true
   },
   "outputs": [],
   "source": [
    "# load data\n",
    "data = load_time_series(1)\n",
    "data = data.groupby('datetime')['pwr'].sum()\n",
    "data = pd.DataFrame(data.values.reshape(-1, 48), index=np.unique(pd.to_datetime(data.index).date.astype(str)))"
   ]
  },
  {
   "cell_type": "code",
   "execution_count": 4,
   "metadata": {
    "collapsed": true
   },
   "outputs": [],
   "source": [
    "# 单步预测，通过计算历史标签的转移概率矩阵 m对次日数值进行预测\n",
    "def predict(x, k=5):\n",
    "    kmeans_pp = KMeans(\n",
    "    n_clusters=k,  # 聚类簇数\n",
    "    max_iter=300,  # 最大迭代次数\n",
    "    n_init=10,  # 随机初始化运行总次数，反馈最佳聚类结果\n",
    "    init='k-means++',  # {'kmeans++', 'random', ndarray}\n",
    "    algorithm='auto',  # {'auto', 'full': EM算法, 'elkan': 应用三角不等式，不支持sparse}\n",
    ")\n",
    "    kmeans_pp.fit(x)\n",
    "    m = transition_probability_matrix(kmeans_pp.labels_)\n",
    "    x_day = x.sum(axis=1)\n",
    "    labels_mean = {\n",
    "        label: np.median(x_day[np.where(kmeans_pp.labels_==label)]) for label in np.unique(kmeans_pp.labels_)\n",
    "    }\n",
    "    pred = sum(labels_mean[label] * p for label, p in m.iloc[kmeans_pp.labels_[-1]].items())\n",
    "    return pred"
   ]
  },
  {
   "cell_type": "code",
   "execution_count": 8,
   "metadata": {
    "collapsed": true
   },
   "outputs": [],
   "source": [
    "# 多轮预测封装\n",
    "x = data.values\n",
    "def test(k=5, init=100, window=100):\n",
    "    k = int(k)\n",
    "    init = int(init)\n",
    "    window = int(window)\n",
    "    res = []\n",
    "    for i in range(init, x.shape[0]):\n",
    "        res.append(predict(x[i-window:i, :], k))\n",
    "    y = x.sum(axis=1)[init:]\n",
    "    pred = np.array(res)\n",
    "    mape = np.mean(np.abs(pred - y) / y)\n",
    "    return -mape\n",
    "\n",
    "def test(k=5, window=100, init=100):\n",
    "    k = int(k)\n",
    "    window = int(window)\n",
    "    res = []\n",
    "    for i in range(init, x.shape[0]):\n",
    "        res.append(predict(x[i-window:i, :], k))\n",
    "    y = x.sum(axis=1)[init:]\n",
    "    pred = np.array(res)\n",
    "    mape = np.mean(np.abs(pred - y) / y)\n",
    "    return -mape"
   ]
  },
  {
   "cell_type": "code",
   "execution_count": 16,
   "metadata": {
    "collapsed": true
   },
   "outputs": [],
   "source": [
    "opt = BayesianOptimization(test, {'k': (1, 10),\n",
    "                                                'init': (50, 100),\n",
    "                                                'window': (10, 50),\n",
    "                                                })"
   ]
  },
  {
   "cell_type": "code",
   "execution_count": 21,
   "metadata": {},
   "outputs": [
    {
     "name": "stdout",
     "output_type": "stream",
     "text": [
      "\u001b[31mBayesian Optimization\u001b[0m\n",
      "\u001b[94m-----------------------------------------------------------------\u001b[0m\n",
      " Step |   Time |      Value |      init |         k |    window | \n",
      "   20 | 00m14s |   -0.09634 |   63.7953 |    8.7818 |   33.6044 | \n",
      "   21 | 00m13s |   -0.08969 |   79.5010 |    6.2955 |   19.1591 | \n",
      "   22 | 00m13s |   -0.09071 |   56.1525 |    6.0534 |   18.3432 | \n",
      "   23 | 00m13s |   -0.08942 |   94.6881 |    6.5297 |   13.7964 | \n",
      "   24 | 00m13s |   -0.09028 |   86.9300 |    8.8414 |   10.0297 | \n",
      "   25 | 00m12s |   -0.08879 |   78.2377 |    5.4152 |   10.1379 | \n",
      "   26 | 00m12s | \u001b[35m  -0.08658\u001b[0m | \u001b[32m  94.1042\u001b[0m | \u001b[32m   5.7506\u001b[0m | \u001b[32m  10.0074\u001b[0m | \n",
      "   27 | 00m11s |   -0.08776 |   99.8925 |    6.0854 |   10.2235 | \n",
      "   28 | 00m11s |   -0.09265 |   50.0241 |    3.7380 |   21.6714 | \n",
      "   29 | 00m13s |   -0.09234 |   68.9035 |    7.0643 |   18.6395 | \n",
      "   30 | 00m12s |   -0.09130 |   79.4751 |    4.2742 |   29.5772 | \n",
      "   31 | 00m12s | \u001b[35m  -0.08602\u001b[0m | \u001b[32m  91.9264\u001b[0m | \u001b[32m   3.8177\u001b[0m | \u001b[32m  10.0785\u001b[0m | \n",
      "   32 | 00m11s |   -0.09407 |   84.9926 |    1.5872 |   19.4018 | \n",
      "   33 | 00m12s |   -0.08641 |   91.4471 |    4.7739 |   10.1117 | \n",
      "   34 | 00m08s |   -0.09289 |   87.6526 |    1.1415 |   10.0031 | \n",
      "   35 | 00m12s |   -0.10406 |   88.5799 |    2.7675 |   49.9158 | \n",
      "   36 | 00m15s |   -0.09091 |   57.2884 |    7.0667 |   10.0433 | \n",
      "   37 | 00m11s |   -0.10739 |   99.7918 |    1.7126 |   49.6518 | \n",
      "   38 | 00m13s |   -0.09511 |   73.2577 |    3.0252 |   38.3824 | \n",
      "   39 | 00m11s |   -0.11405 |   50.0676 |    1.0141 |   49.3966 | \n",
      "   40 | 00m14s |   -0.09308 |   57.2558 |    4.1276 |   27.6416 | \n",
      "   41 | 00m12s |   -0.08928 |   99.9646 |    4.5517 |   22.6120 | \n",
      "   42 | 00m11s | \u001b[35m  -0.08550\u001b[0m | \u001b[32m  94.4549\u001b[0m | \u001b[32m   3.4631\u001b[0m | \u001b[32m  10.0162\u001b[0m | \n",
      "   43 | 00m12s | \u001b[35m  -0.08511\u001b[0m | \u001b[32m  94.7662\u001b[0m | \u001b[32m   3.7252\u001b[0m | \u001b[32m  10.2527\u001b[0m | \n",
      "   44 | 00m10s |   -0.08979 |   96.0285 |    1.4745 |   15.2796 | \n",
      "   45 | 00m15s |   -0.10165 |   57.3648 |    8.1525 |   42.7866 | \n",
      "   46 | 00m13s |   -0.09409 |   85.3750 |    3.9335 |   36.9691 | \n",
      "   47 | 00m14s |   -0.09045 |   82.8577 |    6.1943 |   12.6965 | \n",
      "   48 | 00m14s |   -0.09285 |   50.0190 |    6.2568 |   14.3524 | \n",
      "   49 | 00m12s |   -0.08591 |   99.9873 |    4.7668 |   14.7824 | \n"
     ]
    }
   ],
   "source": [
    "opt.maximize(init_points=20, n_iter=30)"
   ]
  },
  {
   "cell_type": "code",
   "execution_count": 10,
   "metadata": {},
   "outputs": [
    {
     "name": "stdout",
     "output_type": "stream",
     "text": [
      "test dataset mape: -0.0867\n"
     ]
    }
   ],
   "source": [
    "# 测试\n",
    "score = test(k=3, window=10, init=200)\n",
    "print(f'test dataset mape: {score:.4f}')"
   ]
  },
  {
   "cell_type": "code",
   "execution_count": null,
   "metadata": {
    "collapsed": true
   },
   "outputs": [],
   "source": []
  }
 ],
 "metadata": {
  "kernelspec": {
   "display_name": "Python 3",
   "language": "python",
   "name": "python3"
  },
  "language_info": {
   "codemirror_mode": {
    "name": "ipython",
    "version": 3
   },
   "file_extension": ".py",
   "mimetype": "text/x-python",
   "name": "python",
   "nbconvert_exporter": "python",
   "pygments_lexer": "ipython3",
   "version": "3.6.1"
  }
 },
 "nbformat": 4,
 "nbformat_minor": 2
}
