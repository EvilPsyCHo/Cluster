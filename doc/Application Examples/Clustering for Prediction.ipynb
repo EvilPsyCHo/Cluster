{
 "cells": [
  {
   "cell_type": "markdown",
   "metadata": {},
   "source": [
    "## 聚类用于回归预测问题\n",
    "\n",
    "### 1. 利用聚类结果的转移概率矩阵直接预测"
   ]
  },
  {
   "cell_type": "code",
   "execution_count": 2,
   "metadata": {
    "collapsed": true
   },
   "outputs": [],
   "source": [
    "import matplotlib.pyplot as plt\n",
    "from matplotlib import cm\n",
    "import numpy as np\n",
    "import pandas as pd\n",
    "%matplotlib inline\n",
    "import warnings\n",
    "warnings.filterwarnings('ignore')\n",
    "import seaborn as sns\n",
    "\n",
    "from sklearn.manifold import TSNE\n",
    "from sklearn.decomposition import KernelPCA, PCA, TruncatedSVD, RandomizedPCA\n",
    "from sklearn.metrics import pairwise\n",
    "\n",
    "from cluster.models import KMeans, MiniBatchKMeans, SpectralClustering, AffinityPropagation\n",
    "from cluster.dataset import load_time_series\n",
    "from cluster.visual import plot_cluster_sequence, plot_cluster_dim_reduction\n",
    "from cluster.analysis import transition_probability_matrix"
   ]
  },
  {
   "cell_type": "code",
   "execution_count": 3,
   "metadata": {
    "collapsed": true
   },
   "outputs": [],
   "source": [
    "data = load_time_series(1)\n",
    "data = data.groupby('datetime')['pwr'].sum()\n",
    "data = pd.DataFrame(data.values.reshape(-1, 48), index=np.unique(pd.to_datetime(data.index).date.astype(str)))\n",
    "kmeans_pp = KMeans(\n",
    "    n_clusters=8,  # 聚类簇数\n",
    "    max_iter=300,  # 最大迭代次数\n",
    "    n_init=10,  # 随机初始化运行总次数，反馈最佳聚类结果\n",
    "    init='k-means++',  # {'kmeans++', 'random', ndarray}\n",
    "    algorithm='auto',  # {'auto', 'full': EM算法, 'elkan': 应用三角不等式，不支持sparse}\n",
    ")\n",
    "kmeans_pp.fit(data.values)\n",
    "m=transition_probability_matrix(kmeans_pp.labels_[-100:])"
   ]
  },
  {
   "cell_type": "code",
   "execution_count": 56,
   "metadata": {
    "collapsed": true
   },
   "outputs": [],
   "source": [
    "def predict(x, k=5):\n",
    "    kmeans_pp = KMeans(\n",
    "    n_clusters=5,  # 聚类簇数\n",
    "    max_iter=300,  # 最大迭代次数\n",
    "    n_init=10,  # 随机初始化运行总次数，反馈最佳聚类结果\n",
    "    init='k-means++',  # {'kmeans++', 'random', ndarray}\n",
    "    algorithm='auto',  # {'auto', 'full': EM算法, 'elkan': 应用三角不等式，不支持sparse}\n",
    ")\n",
    "    kmeans_pp.fit(x)\n",
    "    m = transition_probability_matrix(kmeans_pp.labels_)\n",
    "    x_day = x.sum(axis=1)\n",
    "    labels_mean = {\n",
    "        label: np.median(x_day[np.where(kmeans_pp.labels_==label)]) for label in np.unique(kmeans_pp.labels_)\n",
    "    }\n",
    "    pred = sum(labels_mean[label] * p for label, p in m.iloc[kmeans_pp.labels_[-1]].items())\n",
    "    return pred"
   ]
  },
  {
   "cell_type": "code",
   "execution_count": 68,
   "metadata": {
    "collapsed": true
   },
   "outputs": [],
   "source": [
    "def test(x, k=5, init=100, window=100):\n",
    "    res = []\n",
    "    for i in range(init, x.shape[0]):\n",
    "        res.append(predict(x[i-window:i, :], k))\n",
    "    y = x.sum(axis=1)[init:]\n",
    "    pred = np.array(res)\n",
    "    mape = np.mean(np.abs(pred - y) / y)\n",
    "    return mape"
   ]
  },
  {
   "cell_type": "code",
   "execution_count": 97,
   "metadata": {},
   "outputs": [],
   "source": [
    "pred = test(data.values, k=5, init=350, window=30)"
   ]
  },
  {
   "cell_type": "code",
   "execution_count": 98,
   "metadata": {},
   "outputs": [
    {
     "data": {
      "text/plain": [
       "0.09815483459150905"
      ]
     },
     "execution_count": 98,
     "metadata": {},
     "output_type": "execute_result"
    }
   ],
   "source": [
    "pred"
   ]
  },
  {
   "cell_type": "markdown",
   "metadata": {},
   "source": [
    "## 2. 将聚类标签作为特征输入"
   ]
  },
  {
   "cell_type": "code",
   "execution_count": 103,
   "metadata": {},
   "outputs": [
    {
     "data": {
      "text/plain": [
       "array([2, 6, 2, 2, 2, 6, 6, 6, 6, 2, 2, 6, 2, 2, 2, 6, 2, 2, 6, 6, 6, 6,\n",
       "       6, 2, 2, 6, 6, 6, 6, 0, 2, 2, 0, 6, 6, 6, 6, 2, 2, 0, 0, 0, 0, 0,\n",
       "       2, 2, 0, 0, 0, 0, 0, 2, 2, 0, 0, 0, 0, 0, 2, 6, 0, 0, 0, 0, 0, 2,\n",
       "       6, 0, 0, 0, 0, 0, 2, 2, 0, 0, 0, 0, 0, 2, 2, 0, 0, 0, 0, 0, 2, 2,\n",
       "       0, 6, 6, 2, 6, 2, 2, 6, 2, 6, 6, 6, 2, 5, 6, 6, 6, 2, 2, 2, 2, 6,\n",
       "       6, 6, 6, 6, 2, 2, 6, 2, 6, 2, 2, 2, 2, 4, 4, 4, 4, 4, 4, 4, 5, 2,\n",
       "       1, 5, 5, 4, 7, 5, 5, 1, 5, 5, 7, 4, 1, 5, 5, 1, 5, 4, 7, 5, 1, 5,\n",
       "       1, 5, 4, 7, 5, 5, 5, 1, 5, 4, 7, 5, 1, 5, 1, 5, 7, 7, 5, 1, 1, 1,\n",
       "       2, 7, 7, 1, 1, 2, 1, 1, 7, 7, 2, 1, 1, 1, 1, 4, 7, 1, 1, 5, 1, 1,\n",
       "       7, 7, 2, 1, 1, 1, 1, 7, 4, 1, 1, 2, 1, 1, 7, 4, 7, 1, 5, 1, 1, 7,\n",
       "       4, 1, 1, 1, 1, 1, 7, 4, 1, 1, 5, 1, 5, 7, 7, 5, 1, 5, 1, 5, 7, 7,\n",
       "       5, 1, 1, 7, 1, 7, 7, 1, 1, 1, 1, 1, 7, 1, 1, 1, 7, 4, 7, 7, 4, 7,\n",
       "       7, 7, 1, 1, 1, 7, 5, 1, 5, 1, 5, 7, 4, 1, 5, 1, 1, 5, 7, 4, 1, 5,\n",
       "       1, 5, 5, 4, 4, 1, 1, 5, 1, 5, 7, 4, 5, 1, 5, 5, 5, 4, 7, 5, 2, 2,\n",
       "       4, 7, 4, 5, 5, 5, 5, 2, 5, 4, 7, 5, 2, 5, 5, 2, 2, 2, 5, 2, 2, 5,\n",
       "       2, 2, 2, 4, 4, 5, 2, 2, 4, 4, 5, 2, 5, 5, 5, 2, 4, 6, 6, 6, 6, 6,\n",
       "       2, 2, 6, 2, 2, 6, 1, 2, 4, 5, 5, 2, 6, 3, 1, 1, 3, 3, 3, 3, 3, 1,\n",
       "       1, 3, 3, 3, 3, 3, 1, 1, 1, 3, 3, 3, 0, 1, 1, 3, 0, 3, 3, 0, 3, 3,\n",
       "       0, 3, 3, 3, 3, 6, 1, 3, 0, 1, 6, 3, 1, 1, 3, 0, 3, 0, 3, 6, 3, 3,\n",
       "       3, 0, 0, 0, 2, 6, 3, 3], dtype=int32)"
      ]
     },
     "execution_count": 103,
     "metadata": {},
     "output_type": "execute_result"
    }
   ],
   "source": [
    "kmeans_pp.predict(data.values)"
   ]
  },
  {
   "cell_type": "code",
   "execution_count": null,
   "metadata": {
    "collapsed": true
   },
   "outputs": [],
   "source": []
  }
 ],
 "metadata": {
  "kernelspec": {
   "display_name": "Python 3",
   "language": "python",
   "name": "python3"
  },
  "language_info": {
   "codemirror_mode": {
    "name": "ipython",
    "version": 3
   },
   "file_extension": ".py",
   "mimetype": "text/x-python",
   "name": "python",
   "nbconvert_exporter": "python",
   "pygments_lexer": "ipython3",
   "version": "3.6.1"
  }
 },
 "nbformat": 4,
 "nbformat_minor": 2
}
